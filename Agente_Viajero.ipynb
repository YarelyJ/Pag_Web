{
 "cells": [
  {
   "cell_type": "code",
   "execution_count": 1,
   "id": "9705107d-a913-4b1b-bca1-55c3ca9d5b8a",
   "metadata": {},
   "outputs": [
    {
     "name": "stdout",
     "output_type": "stream",
     "text": [
      "Requirement already satisfied: python-tsp in c:\\users\\ad\\anaconda3\\envs\\proba\\lib\\site-packages (0.5.0)\n",
      "Requirement already satisfied: numpy<3.0.0,>=2.0.0 in c:\\users\\ad\\anaconda3\\envs\\proba\\lib\\site-packages (from python-tsp) (2.1.3)\n",
      "Requirement already satisfied: requests<3.0.0,>=2.28.0 in c:\\users\\ad\\anaconda3\\envs\\proba\\lib\\site-packages (from python-tsp) (2.31.0)\n",
      "Requirement already satisfied: tsplib95<0.8.0,>=0.7.1 in c:\\users\\ad\\anaconda3\\envs\\proba\\lib\\site-packages (from python-tsp) (0.7.1)\n",
      "Requirement already satisfied: charset-normalizer<4,>=2 in c:\\users\\ad\\anaconda3\\envs\\proba\\lib\\site-packages (from requests<3.0.0,>=2.28.0->python-tsp) (2.0.4)\n",
      "Requirement already satisfied: idna<4,>=2.5 in c:\\users\\ad\\anaconda3\\envs\\proba\\lib\\site-packages (from requests<3.0.0,>=2.28.0->python-tsp) (3.4)\n",
      "Requirement already satisfied: urllib3<3,>=1.21.1 in c:\\users\\ad\\anaconda3\\envs\\proba\\lib\\site-packages (from requests<3.0.0,>=2.28.0->python-tsp) (2.1.0)\n",
      "Requirement already satisfied: certifi>=2017.4.17 in c:\\users\\ad\\anaconda3\\envs\\proba\\lib\\site-packages (from requests<3.0.0,>=2.28.0->python-tsp) (2024.2.2)\n",
      "Requirement already satisfied: Click>=6.0 in c:\\users\\ad\\anaconda3\\envs\\proba\\lib\\site-packages (from tsplib95<0.8.0,>=0.7.1->python-tsp) (8.1.7)\n",
      "Requirement already satisfied: Deprecated~=1.2.9 in c:\\users\\ad\\anaconda3\\envs\\proba\\lib\\site-packages (from tsplib95<0.8.0,>=0.7.1->python-tsp) (1.2.14)\n",
      "Requirement already satisfied: networkx~=2.1 in c:\\users\\ad\\anaconda3\\envs\\proba\\lib\\site-packages (from tsplib95<0.8.0,>=0.7.1->python-tsp) (2.8.8)\n",
      "Requirement already satisfied: tabulate~=0.8.7 in c:\\users\\ad\\anaconda3\\envs\\proba\\lib\\site-packages (from tsplib95<0.8.0,>=0.7.1->python-tsp) (0.8.10)\n",
      "Requirement already satisfied: colorama in c:\\users\\ad\\anaconda3\\envs\\proba\\lib\\site-packages (from Click>=6.0->tsplib95<0.8.0,>=0.7.1->python-tsp) (0.4.6)\n",
      "Requirement already satisfied: wrapt<2,>=1.10 in c:\\users\\ad\\anaconda3\\envs\\proba\\lib\\site-packages (from Deprecated~=1.2.9->tsplib95<0.8.0,>=0.7.1->python-tsp) (1.16.0)\n"
     ]
    },
    {
     "name": "stderr",
     "output_type": "stream",
     "text": [
      "WARNING: Skipping C:\\Users\\AD\\anaconda3\\envs\\proba\\Lib\\site-packages\\numpy-1.26.4.dist-info due to invalid metadata entry 'name'\n",
      "WARNING: Skipping C:\\Users\\AD\\anaconda3\\envs\\proba\\Lib\\site-packages\\numpy-1.26.4.dist-info due to invalid metadata entry 'name'\n",
      "WARNING: Skipping C:\\Users\\AD\\anaconda3\\envs\\proba\\Lib\\site-packages\\numpy-1.26.4.dist-info due to invalid metadata entry 'name'\n",
      "WARNING: Skipping C:\\Users\\AD\\anaconda3\\envs\\proba\\Lib\\site-packages\\numpy-1.26.4.dist-info due to invalid metadata entry 'name'\n",
      "WARNING: Skipping C:\\Users\\AD\\anaconda3\\envs\\proba\\Lib\\site-packages\\numpy-1.26.4.dist-info due to invalid metadata entry 'name'\n",
      "WARNING: Skipping C:\\Users\\AD\\anaconda3\\envs\\proba\\Lib\\site-packages\\numpy-1.26.4.dist-info due to invalid metadata entry 'name'\n"
     ]
    }
   ],
   "source": [
    "!pip install python-tsp\n"
   ]
  },
  {
   "cell_type": "code",
   "execution_count": 2,
   "id": "e80a9aa9-a79f-4754-b9c9-542ff8dd0598",
   "metadata": {},
   "outputs": [],
   "source": [
    "import numpy as np\n",
    "from python_tsp.exact import solve_tsp_dynamic_programming"
   ]
  },
  {
   "cell_type": "code",
   "execution_count": 4,
   "id": "1c4f6ef9-fa85-4dfe-ac7c-288274419aab",
   "metadata": {},
   "outputs": [],
   "source": [
    "distancia_matriz=np.array ([\n",
    "    #\n",
    "    [0,13,23,46,17,14,19],\n",
    "    [26,0,29,34,38,40,43],\n",
    "    [25,34,0,18,25,27,41],\n",
    "    [31,30,35,0,36,37,38],\n",
    "    [23,21,23,23,0,22,27],\n",
    "    [31,33,34,33,37,0,39],\n",
    "    [30,34,37,24,40,50,0]\n",
    "])"
   ]
  },
  {
   "cell_type": "code",
   "execution_count": 7,
   "id": "20ace492-fd5c-4c33-80e0-fd0fe3590a68",
   "metadata": {},
   "outputs": [],
   "source": [
    "ruta, distancia = solve_tsp_dynamic_programming(distancia_matriz)\n",
    "ruta = np.array(ruta)+1"
   ]
  },
  {
   "cell_type": "code",
   "execution_count": 8,
   "id": "dbe36711-07fe-4009-8134-a36e9cca089f",
   "metadata": {},
   "outputs": [
    {
     "name": "stdout",
     "output_type": "stream",
     "text": [
      "la ruta mas corta es : [1 6 3 5 7 4 2] la distancia es : 180\n"
     ]
    }
   ],
   "source": [
    "print(\"la ruta mas corta es :\", ruta ,\"la distancia es :\",distancia)"
   ]
  },
  {
   "cell_type": "code",
   "execution_count": null,
   "id": "b4ac7e09-54c8-455f-80fb-39def579352f",
   "metadata": {},
   "outputs": [],
   "source": []
  }
 ],
 "metadata": {
  "kernelspec": {
   "display_name": "Python 3 (ipykernel)",
   "language": "python",
   "name": "python3"
  },
  "language_info": {
   "codemirror_mode": {
    "name": "ipython",
    "version": 3
   },
   "file_extension": ".py",
   "mimetype": "text/x-python",
   "name": "python",
   "nbconvert_exporter": "python",
   "pygments_lexer": "ipython3",
   "version": "3.12.3"
  }
 },
 "nbformat": 4,
 "nbformat_minor": 5
}
