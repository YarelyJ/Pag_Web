{
 "cells": [
  {
   "cell_type": "markdown",
   "metadata": {},
   "source": [
    "# Regreción Logistica: Detección de SPAM\n",
    "En este ejercicio se muestran los fundamentos de la regresón Logistica planteando ino de los primeros problemas que fueron solicionados mediante el uso de tecnicas de Machine Learning: La detección de SPAM.\n",
    "### Enunciado del ejercicio\n",
    "Se propone la construccion de un sistema automatizado capas de predecir si un e-mail es SPAM o no, se utilizara el siguiente DataSet:\n",
    "[2007 TREC Public Spam Corpus](https://www.keggle)\n",
    "The Corpus trec07p Contain 75,419 messages:\n",
    "   25,220 Ham\n",
    "   50199 SPAM\n",
    "\n",
    "These messages constitute all the messages delivered to a particular server between these dates:\n",
    "\n",
    "Sun, 8 Apr 2007 13:07:21 -0400 \n",
    "\n",
    "Fri, 6 Jul 2007 07:04:53 -0400"
   ]
  },
  {
   "cell_type": "markdown",
   "metadata": {},
   "source": [
    "## 1.- Funciones Complementarias\n",
    "En este caso practico relacionado con la detección de e-mail de SPAM, el DataSet del que se dispone esta conformado por e-mails, con sus correspondientes cabeceras y campos adicionales, por lo tanto es necesario un preprocesamiento previo antes de que sean ingeridos por nuestro modelo de ML. "
   ]
  },
  {
   "cell_type": "code",
   "execution_count": null,
   "metadata": {},
   "outputs": [],
   "source": [
    "# Esta clase facilita el procecesamiento de correos electronicos que poseeen codigo HTML\n",
    "from html.parser import HTMLParser\n",
    "\n",
    "class MLStripper(HTMLParser)\n",
    "   def __init__(self):\n",
    "       self.reset()\n",
    "       self.strict = False\n",
    "       self.convert_charrefs = True\n",
    "       self.fed =[]\n",
    "\n",
    "    def handle_data(self, d):\n",
    "        self.fed.append(d)\n",
    "\n",
    "    def get_data(self):\n",
    "        return ''.join(self.fed)"
   ]
  },
  {
   "cell_type": "code",
   "execution_count": null,
   "metadata": {},
   "outputs": [],
   "source": [
    "# Esta funcion se encarga de eliminar los tags HTML que se encuentran en el texto dedl e-mail\n",
    "def strip_tags(html):\n",
    "    s = MLStripper()\n",
    "    s.feed(html)\n",
    "    retun s.get_data()"
   ]
  },
  {
   "cell_type": "code",
   "execution_count": null,
   "metadata": {},
   "outputs": [],
   "source": [
    "# Ejemplo de eliminacion de los tags HTML de un texto\n",
    "t = '<tr><td aling=lefy><a href=\"../../issues/51/16.html#article\">Phrack World News</a>/</td>'\n",
    "strip_tags(t)"
   ]
  },
  {
   "cell_type": "code",
   "execution_count": null,
   "metadata": {},
   "outputs": [],
   "source": []
  }
 ],
 "metadata": {
  "language_info": {
   "name": "python"
  }
 },
 "nbformat": 4,
 "nbformat_minor": 2
}
